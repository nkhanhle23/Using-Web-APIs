{
 "cells": [
  {
   "cell_type": "code",
   "execution_count": 2,
   "metadata": {},
   "outputs": [],
   "source": [
    "import requests\n",
    "import json"
   ]
  },
  {
   "cell_type": "code",
   "execution_count": 35,
   "metadata": {},
   "outputs": [],
   "source": [
    "response = requests.get(\"https://api.randomuser.me/\")"
   ]
  },
  {
   "cell_type": "code",
   "execution_count": 36,
   "metadata": {},
   "outputs": [
    {
     "name": "stdout",
     "output_type": "stream",
     "text": [
      "200\n"
     ]
    }
   ],
   "source": [
    "print(response.status_code)"
   ]
  },
  {
   "cell_type": "code",
   "execution_count": 37,
   "metadata": {},
   "outputs": [],
   "source": [
    "response = requests.get(\"https://api.randomuser.me/?results=5&nat=us&gender=male\")\n",
    "response.text\n",
    "data = json.loads(response.text)"
   ]
  },
  {
   "cell_type": "code",
   "execution_count": 25,
   "metadata": {},
   "outputs": [
    {
     "name": "stdout",
     "output_type": "stream",
     "text": [
      "['Noah', 'Darrell', 'Marc', 'Alex', 'Noah']\n"
     ]
    }
   ],
   "source": [
    "first_names = []\n",
    "for i in range(0,len(data[\"results\"])):\n",
    "    first_name = data[\"results\"][i][\"name\"][\"first\"]\n",
    "    first_names.append(first_name)\n",
    "print(first_names)"
   ]
  },
  {
   "cell_type": "code",
   "execution_count": 39,
   "metadata": {},
   "outputs": [],
   "source": [
    "astros = requests.get(\"http://api.open-notify.org/astros.json\")\n",
    "astros.text\n",
    "astros_data = json.loads(astros.text)"
   ]
  },
  {
   "cell_type": "code",
   "execution_count": 40,
   "metadata": {},
   "outputs": [
    {
     "name": "stdout",
     "output_type": "stream",
     "text": [
      "People that are right now in space:\n",
      "['Sergey Prokopyev', 'Dmitry Petelin', 'Frank Rubio', 'Fei Junlong', 'Deng Qingming', 'Zhang Lu', 'Stephen Bowen', 'Warren Hoburg', 'Sultan Alneyadi', 'Andrey Fedyaev']\n",
      "Number of people that are in space: 10\n"
     ]
    }
   ],
   "source": [
    "ppl_in_space = []\n",
    "for i in range(0,len(astros_data[\"people\"])):\n",
    "    name = astros_data[\"people\"][i][\"name\"]\n",
    "    ppl_in_space.append(name)\n",
    "\n",
    "print(f\"People that are right now in space:\")\n",
    "print(ppl_in_space)\n",
    "print(f\"Number of people that are in space:\",len(ppl_in_space))"
   ]
  },
  {
   "cell_type": "code",
   "execution_count": 41,
   "metadata": {},
   "outputs": [
    {
     "name": "stdout",
     "output_type": "stream",
     "text": [
      "{'info': {'page': 1,\n",
      "          'results': 5,\n",
      "          'seed': '5abadeabe2c7b395',\n",
      "          'version': '1.4'},\n",
      " 'results': [{'cell': '(851) 365-1465',\n",
      "              'dob': {'age': 62, 'date': '1961-03-25T21:33:44.080Z'},\n",
      "              'email': 'bernard.ryan@example.com',\n",
      "              'gender': 'male',\n",
      "              'id': {'name': 'SSN', 'value': '832-97-0956'},\n",
      "              'location': {'city': 'Surrey',\n",
      "                           'coordinates': {'latitude': '-55.9717',\n",
      "                                           'longitude': '-149.8589'},\n",
      "                           'country': 'United States',\n",
      "                           'postcode': 59641,\n",
      "                           'state': 'New Hampshire',\n",
      "                           'street': {'name': 'Marsh Ln', 'number': 6579},\n",
      "                           'timezone': {'description': 'Mid-Atlantic',\n",
      "                                        'offset': '-2:00'}},\n",
      "              'login': {'md5': 'c9155c0ede90b6151e0a7fe16e008baa',\n",
      "                        'password': 'dougie',\n",
      "                        'salt': 'w5lmHE3p',\n",
      "                        'sha1': '8b1b4860ab0f18b47217f20029f7d8fd81727169',\n",
      "                        'sha256': '67914fe5b69f68566667097076004633efd59298b31572347c46fe96bef80e36',\n",
      "                        'username': 'brownbutterfly411',\n",
      "                        'uuid': 'c6a7e985-e238-47e4-8315-4c0a9835d298'},\n",
      "              'name': {'first': 'Bernard', 'last': 'Ryan', 'title': 'Mr'},\n",
      "              'nat': 'US',\n",
      "              'phone': '(765) 338-1657',\n",
      "              'picture': {'large': 'https://randomuser.me/api/portraits/men/5.jpg',\n",
      "                          'medium': 'https://randomuser.me/api/portraits/med/men/5.jpg',\n",
      "                          'thumbnail': 'https://randomuser.me/api/portraits/thumb/men/5.jpg'},\n",
      "              'registered': {'age': 5, 'date': '2017-09-29T03:53:05.434Z'}},\n",
      "             {'cell': '(958) 439-6035',\n",
      "              'dob': {'age': 39, 'date': '1983-05-22T22:28:42.608Z'},\n",
      "              'email': 'jessie.webb@example.com',\n",
      "              'gender': 'male',\n",
      "              'id': {'name': 'SSN', 'value': '067-30-2695'},\n",
      "              'location': {'city': 'Hialeah',\n",
      "                           'coordinates': {'latitude': '49.2001',\n",
      "                                           'longitude': '91.5148'},\n",
      "                           'country': 'United States',\n",
      "                           'postcode': 41175,\n",
      "                           'state': 'Louisiana',\n",
      "                           'street': {'name': 'W Sherman Dr', 'number': 2362},\n",
      "                           'timezone': {'description': 'Western Europe Time, '\n",
      "                                                       'London, Lisbon, '\n",
      "                                                       'Casablanca',\n",
      "                                        'offset': '0:00'}},\n",
      "              'login': {'md5': 'f1a8bef60040a8816db5db4403106964',\n",
      "                        'password': 'mollydog',\n",
      "                        'salt': 'Por5AhGe',\n",
      "                        'sha1': '64aa06096e8680978a786ef88d1482640fc9e50b',\n",
      "                        'sha256': 'd89339e765eca5a0314d2c3716c2d68d88f993e82400746afdf833e3d4e4c95d',\n",
      "                        'username': 'silverpanda730',\n",
      "                        'uuid': '933a827a-8e64-4eb0-a9bb-7f73e655a34e'},\n",
      "              'name': {'first': 'Jessie', 'last': 'Webb', 'title': 'Mr'},\n",
      "              'nat': 'US',\n",
      "              'phone': '(935) 229-0399',\n",
      "              'picture': {'large': 'https://randomuser.me/api/portraits/men/38.jpg',\n",
      "                          'medium': 'https://randomuser.me/api/portraits/med/men/38.jpg',\n",
      "                          'thumbnail': 'https://randomuser.me/api/portraits/thumb/men/38.jpg'},\n",
      "              'registered': {'age': 7, 'date': '2015-10-21T14:29:06.110Z'}},\n",
      "             {'cell': '(367) 248-7892',\n",
      "              'dob': {'age': 50, 'date': '1972-09-15T06:19:53.308Z'},\n",
      "              'email': 'edgar.stone@example.com',\n",
      "              'gender': 'male',\n",
      "              'id': {'name': 'SSN', 'value': '400-66-6117'},\n",
      "              'location': {'city': 'Little Rock',\n",
      "                           'coordinates': {'latitude': '-14.0073',\n",
      "                                           'longitude': '-135.2132'},\n",
      "                           'country': 'United States',\n",
      "                           'postcode': 85176,\n",
      "                           'state': 'Mississippi',\n",
      "                           'street': {'name': 'Taylor St', 'number': 4429},\n",
      "                           'timezone': {'description': 'Ekaterinburg, '\n",
      "                                                       'Islamabad, Karachi, '\n",
      "                                                       'Tashkent',\n",
      "                                        'offset': '+5:00'}},\n",
      "              'login': {'md5': '8002db08cdaa563d137af1e0d5e1a60a',\n",
      "                        'password': 'blues1',\n",
      "                        'salt': 'vNBB9PcQ',\n",
      "                        'sha1': '321e689d7a775791cd18c534f360a836e404065a',\n",
      "                        'sha256': 'a657e482569d10704a3dbe67ab54aab1b9e45f2aeda024ab00d43c1d482c13b6',\n",
      "                        'username': 'bluepanda786',\n",
      "                        'uuid': '819cbbaa-6e59-403e-86ff-f8d45f90680a'},\n",
      "              'name': {'first': 'Edgar', 'last': 'Stone', 'title': 'Mr'},\n",
      "              'nat': 'US',\n",
      "              'phone': '(217) 711-6537',\n",
      "              'picture': {'large': 'https://randomuser.me/api/portraits/men/7.jpg',\n",
      "                          'medium': 'https://randomuser.me/api/portraits/med/men/7.jpg',\n",
      "                          'thumbnail': 'https://randomuser.me/api/portraits/thumb/men/7.jpg'},\n",
      "              'registered': {'age': 12, 'date': '2010-06-20T00:31:32.248Z'}},\n",
      "             {'cell': '(985) 212-6420',\n",
      "              'dob': {'age': 55, 'date': '1967-11-26T11:39:19.053Z'},\n",
      "              'email': 'logan.dunn@example.com',\n",
      "              'gender': 'male',\n",
      "              'id': {'name': 'SSN', 'value': '486-79-5196'},\n",
      "              'location': {'city': 'Tallahassee',\n",
      "                           'coordinates': {'latitude': '44.3840',\n",
      "                                           'longitude': '-70.2918'},\n",
      "                           'country': 'United States',\n",
      "                           'postcode': 93460,\n",
      "                           'state': 'South Carolina',\n",
      "                           'street': {'name': 'Timber Wolf Trail',\n",
      "                                      'number': 5994},\n",
      "                           'timezone': {'description': 'Kabul',\n",
      "                                        'offset': '+4:30'}},\n",
      "              'login': {'md5': '211add7958f2341f918ede7b46bebc6b',\n",
      "                        'password': '7grout',\n",
      "                        'salt': 'n5rmWQj5',\n",
      "                        'sha1': '40c0a9d492efeab56b29dddf7280a9e3d88e50a8',\n",
      "                        'sha256': '0b6e799601ddb0ae8932685ce5c3636b5cfe0cb40c1de75d2f7bfe6485401ecb',\n",
      "                        'username': 'blackleopard868',\n",
      "                        'uuid': '04ae914e-a7d8-47d5-a77f-a0a22bc76111'},\n",
      "              'name': {'first': 'Logan', 'last': 'Dunn', 'title': 'Mr'},\n",
      "              'nat': 'US',\n",
      "              'phone': '(623) 482-5458',\n",
      "              'picture': {'large': 'https://randomuser.me/api/portraits/men/66.jpg',\n",
      "                          'medium': 'https://randomuser.me/api/portraits/med/men/66.jpg',\n",
      "                          'thumbnail': 'https://randomuser.me/api/portraits/thumb/men/66.jpg'},\n",
      "              'registered': {'age': 5, 'date': '2017-05-23T00:43:53.736Z'}},\n",
      "             {'cell': '(848) 617-8035',\n",
      "              'dob': {'age': 77, 'date': '1945-07-11T07:41:02.466Z'},\n",
      "              'email': 'kenneth.shaw@example.com',\n",
      "              'gender': 'male',\n",
      "              'id': {'name': 'SSN', 'value': '836-57-3383'},\n",
      "              'location': {'city': 'North Charleston',\n",
      "                           'coordinates': {'latitude': '36.6173',\n",
      "                                           'longitude': '54.9848'},\n",
      "                           'country': 'United States',\n",
      "                           'postcode': 97333,\n",
      "                           'state': 'New Hampshire',\n",
      "                           'street': {'name': 'Spring St', 'number': 9906},\n",
      "                           'timezone': {'description': 'Central Time (US & '\n",
      "                                                       'Canada), Mexico City',\n",
      "                                        'offset': '-6:00'}},\n",
      "              'login': {'md5': '1ca145ebdeaf0daa9be02784fcce0e39',\n",
      "                        'password': 'pppppp',\n",
      "                        'salt': '5RvG679g',\n",
      "                        'sha1': '444ba602597f23c262ab32b2d11243e5e7c5f269',\n",
      "                        'sha256': '460edaf24d9ac7021dba19249de02c62acd8eee5f5bb2682b741ee9a6e35e5aa',\n",
      "                        'username': 'greenleopard400',\n",
      "                        'uuid': '13986c3a-c07c-4bdf-bf55-90eb48600aaa'},\n",
      "              'name': {'first': 'Kenneth', 'last': 'Shaw', 'title': 'Mr'},\n",
      "              'nat': 'US',\n",
      "              'phone': '(657) 795-0358',\n",
      "              'picture': {'large': 'https://randomuser.me/api/portraits/men/56.jpg',\n",
      "                          'medium': 'https://randomuser.me/api/portraits/med/men/56.jpg',\n",
      "                          'thumbnail': 'https://randomuser.me/api/portraits/thumb/men/56.jpg'},\n",
      "              'registered': {'age': 4, 'date': '2018-11-08T01:58:22.206Z'}}]}\n"
     ]
    }
   ],
   "source": [
    "from pprint import pprint\n",
    "pprint(data)"
   ]
  }
 ],
 "metadata": {
  "kernelspec": {
   "display_name": "Python 3",
   "language": "python",
   "name": "python3"
  },
  "language_info": {
   "codemirror_mode": {
    "name": "ipython",
    "version": 3
   },
   "file_extension": ".py",
   "mimetype": "text/x-python",
   "name": "python",
   "nbconvert_exporter": "python",
   "pygments_lexer": "ipython3",
   "version": "3.10.9"
  },
  "orig_nbformat": 4
 },
 "nbformat": 4,
 "nbformat_minor": 2
}
