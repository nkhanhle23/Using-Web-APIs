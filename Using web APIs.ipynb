{
 "cells": [
  {
   "cell_type": "code",
   "execution_count": 1,
   "metadata": {},
   "outputs": [],
   "source": [
    "import requests\n",
    "import json"
   ]
  },
  {
   "cell_type": "code",
   "execution_count": 2,
   "metadata": {},
   "outputs": [],
   "source": [
    "response = requests.get(\"https://api.randomuser.me/\")"
   ]
  },
  {
   "cell_type": "code",
   "execution_count": 3,
   "metadata": {},
   "outputs": [
    {
     "name": "stdout",
     "output_type": "stream",
     "text": [
      "200\n"
     ]
    }
   ],
   "source": [
    "print(response.status_code)"
   ]
  },
  {
   "cell_type": "code",
   "execution_count": null,
   "metadata": {},
   "outputs": [],
   "source": [
    "response = requests.get(\"https://api.randomuser.me/?results=5&nat=us&gender=male\")\n",
    "response.text\n",
    "data = json.loads(response.text)\n",
    "data"
   ]
  },
  {
   "cell_type": "code",
   "execution_count": 5,
   "metadata": {},
   "outputs": [
    {
     "name": "stdout",
     "output_type": "stream",
     "text": [
      "['Kelly', 'Devon', 'Ramon', 'Mathew', 'Mario']\n"
     ]
    }
   ],
   "source": [
    "first_names = []\n",
    "for i in range(0,len(data[\"results\"])):\n",
    "    first_name = data[\"results\"][i][\"name\"][\"first\"]\n",
    "    first_names.append(first_name)\n",
    "print(first_names)"
   ]
  },
  {
   "cell_type": "code",
   "execution_count": 6,
   "metadata": {},
   "outputs": [],
   "source": [
    "astros = requests.get(\"http://api.open-notify.org/astros.json\")\n",
    "astros.text\n",
    "astros_data = json.loads(astros.text)"
   ]
  },
  {
   "cell_type": "code",
   "execution_count": 35,
   "metadata": {},
   "outputs": [
    {
     "data": {
      "text/plain": [
       "'{\"message\": \"success\", \"number\": 10, \"people\": [{\"craft\": \"ISS\", \"name\": \"Sergey Prokopyev\"}, {\"craft\": \"ISS\", \"name\": \"Dmitry Petelin\"}, {\"craft\": \"ISS\", \"name\": \"Frank Rubio\"}, {\"craft\": \"Shenzhou 15\", \"name\": \"Fei Junlong\"}, {\"craft\": \"Shenzhou 15\", \"name\": \"Deng Qingming\"}, {\"craft\": \"Shenzhou 15\", \"name\": \"Zhang Lu\"}, {\"craft\": \"ISS\", \"name\": \"Stephen Bowen\"}, {\"craft\": \"ISS\", \"name\": \"Warren Hoburg\"}, {\"craft\": \"ISS\", \"name\": \"Sultan Alneyadi\"}, {\"craft\": \"ISS\", \"name\": \"Andrey Fedyaev\"}]}'"
      ]
     },
     "execution_count": 35,
     "metadata": {},
     "output_type": "execute_result"
    }
   ],
   "source": [
    "astros.text"
   ]
  },
  {
   "cell_type": "code",
   "execution_count": 7,
   "metadata": {},
   "outputs": [
    {
     "name": "stdout",
     "output_type": "stream",
     "text": [
      "People that are right now in space:\n",
      "['Sergey Prokopyev', 'Dmitry Petelin', 'Frank Rubio', 'Fei Junlong', 'Deng Qingming', 'Zhang Lu', 'Stephen Bowen', 'Warren Hoburg', 'Sultan Alneyadi', 'Andrey Fedyaev']\n",
      "Number of people that are in space: 10\n"
     ]
    }
   ],
   "source": [
    "ppl_in_space = []\n",
    "for i in range(0,len(astros_data[\"people\"])):\n",
    "    name = astros_data[\"people\"][i][\"name\"]\n",
    "    ppl_in_space.append(name)\n",
    "\n",
    "print(f\"People that are right now in space:\")\n",
    "print(ppl_in_space)\n",
    "print(f\"Number of people that are in space:\",len(ppl_in_space))"
   ]
  },
  {
   "cell_type": "code",
   "execution_count": 8,
   "metadata": {},
   "outputs": [
    {
     "name": "stdout",
     "output_type": "stream",
     "text": [
      "{'info': {'page': 1,\n",
      "          'results': 5,\n",
      "          'seed': 'fdc62b54db7f3f3c',\n",
      "          'version': '1.4'},\n",
      " 'results': [{'cell': '(248) 381-9948',\n",
      "              'dob': {'age': 39, 'date': '1984-01-12T21:05:47.095Z'},\n",
      "              'email': 'kelly.brooks@example.com',\n",
      "              'gender': 'male',\n",
      "              'id': {'name': 'SSN', 'value': '714-47-0117'},\n",
      "              'location': {'city': 'Killeen',\n",
      "                           'coordinates': {'latitude': '49.8287',\n",
      "                                           'longitude': '24.1067'},\n",
      "                           'country': 'United States',\n",
      "                           'postcode': 16003,\n",
      "                           'state': 'North Carolina',\n",
      "                           'street': {'name': 'Locust Rd', 'number': 5157},\n",
      "                           'timezone': {'description': 'Tehran',\n",
      "                                        'offset': '+3:30'}},\n",
      "              'login': {'md5': 'b8c980aa0423a2eee4710399a7a7bda6',\n",
      "                        'password': 'shamus',\n",
      "                        'salt': 'LVG1ipOP',\n",
      "                        'sha1': 'cfcbe0452e4c7384ce87e1f0012db0c21eaa50eb',\n",
      "                        'sha256': '46d33bd7b8fba4d95d77c0e21a2d29fb45a9c8529700240e3975da8744ea6dfa',\n",
      "                        'username': 'redkoala875',\n",
      "                        'uuid': '19877a19-c8d2-43aa-8a6d-b9f3910c2211'},\n",
      "              'name': {'first': 'Kelly', 'last': 'Brooks', 'title': 'Mr'},\n",
      "              'nat': 'US',\n",
      "              'phone': '(350) 281-1111',\n",
      "              'picture': {'large': 'https://randomuser.me/api/portraits/men/97.jpg',\n",
      "                          'medium': 'https://randomuser.me/api/portraits/med/men/97.jpg',\n",
      "                          'thumbnail': 'https://randomuser.me/api/portraits/thumb/men/97.jpg'},\n",
      "              'registered': {'age': 9, 'date': '2014-05-10T13:52:02.102Z'}},\n",
      "             {'cell': '(913) 845-8015',\n",
      "              'dob': {'age': 65, 'date': '1957-11-09T03:37:05.128Z'},\n",
      "              'email': 'devon.george@example.com',\n",
      "              'gender': 'male',\n",
      "              'id': {'name': 'SSN', 'value': '805-01-5093'},\n",
      "              'location': {'city': 'Orange',\n",
      "                           'coordinates': {'latitude': '-67.8178',\n",
      "                                           'longitude': '-167.0213'},\n",
      "                           'country': 'United States',\n",
      "                           'postcode': 79880,\n",
      "                           'state': 'Nevada',\n",
      "                           'street': {'name': 'Paddock Way', 'number': 9290},\n",
      "                           'timezone': {'description': 'Beijing, Perth, '\n",
      "                                                       'Singapore, Hong Kong',\n",
      "                                        'offset': '+8:00'}},\n",
      "              'login': {'md5': '5860f3af1b62b5665a5199586fdea5d5',\n",
      "                        'password': '1701',\n",
      "                        'salt': 'STo9eErL',\n",
      "                        'sha1': '2a474cc28ffe7ada68a9ffc804b7e0f9b106fc26',\n",
      "                        'sha256': 'd2b738446e87256b4157cca21a12b7d3dd53547a88fbd52742c7b36a2f14402d',\n",
      "                        'username': 'lazybird306',\n",
      "                        'uuid': '6e2e3ff7-dc36-47c0-a3cc-44de9a8cbb3f'},\n",
      "              'name': {'first': 'Devon', 'last': 'George', 'title': 'Mr'},\n",
      "              'nat': 'US',\n",
      "              'phone': '(229) 587-8708',\n",
      "              'picture': {'large': 'https://randomuser.me/api/portraits/men/45.jpg',\n",
      "                          'medium': 'https://randomuser.me/api/portraits/med/men/45.jpg',\n",
      "                          'thumbnail': 'https://randomuser.me/api/portraits/thumb/men/45.jpg'},\n",
      "              'registered': {'age': 9, 'date': '2014-03-15T04:12:32.921Z'}},\n",
      "             {'cell': '(975) 256-7911',\n",
      "              'dob': {'age': 27, 'date': '1995-12-16T13:20:30.026Z'},\n",
      "              'email': 'ramon.johnson@example.com',\n",
      "              'gender': 'male',\n",
      "              'id': {'name': 'SSN', 'value': '121-95-8022'},\n",
      "              'location': {'city': 'Visalia',\n",
      "                           'coordinates': {'latitude': '-77.2215',\n",
      "                                           'longitude': '-0.0841'},\n",
      "                           'country': 'United States',\n",
      "                           'postcode': 45502,\n",
      "                           'state': 'Washington',\n",
      "                           'street': {'name': 'Wycliff Ave', 'number': 4769},\n",
      "                           'timezone': {'description': 'Mountain Time (US & '\n",
      "                                                       'Canada)',\n",
      "                                        'offset': '-7:00'}},\n",
      "              'login': {'md5': '27a09613a004036c772cda69487f97e7',\n",
      "                        'password': 'jackjack',\n",
      "                        'salt': 'hZCFi6MK',\n",
      "                        'sha1': '124bd88102e8646300ee0c742296cd87779a82c5',\n",
      "                        'sha256': 'b3f4158011526035086d30e4abb9d1e90d6db49c94d1af465783531b141ede13',\n",
      "                        'username': 'whitebird556',\n",
      "                        'uuid': '49081339-703e-47cc-ac1d-f25c68d128e2'},\n",
      "              'name': {'first': 'Ramon', 'last': 'Johnson', 'title': 'Mr'},\n",
      "              'nat': 'US',\n",
      "              'phone': '(485) 223-3900',\n",
      "              'picture': {'large': 'https://randomuser.me/api/portraits/men/57.jpg',\n",
      "                          'medium': 'https://randomuser.me/api/portraits/med/men/57.jpg',\n",
      "                          'thumbnail': 'https://randomuser.me/api/portraits/thumb/men/57.jpg'},\n",
      "              'registered': {'age': 11, 'date': '2011-07-15T15:26:08.209Z'}},\n",
      "             {'cell': '(745) 389-7582',\n",
      "              'dob': {'age': 60, 'date': '1962-07-03T08:19:46.939Z'},\n",
      "              'email': 'mathew.chavez@example.com',\n",
      "              'gender': 'male',\n",
      "              'id': {'name': 'SSN', 'value': '049-85-6904'},\n",
      "              'location': {'city': 'Houston',\n",
      "                           'coordinates': {'latitude': '41.7974',\n",
      "                                           'longitude': '-135.8015'},\n",
      "                           'country': 'United States',\n",
      "                           'postcode': 76129,\n",
      "                           'state': 'Arkansas',\n",
      "                           'street': {'name': 'W Sherman Dr', 'number': 2596},\n",
      "                           'timezone': {'description': 'Almaty, Dhaka, Colombo',\n",
      "                                        'offset': '+6:00'}},\n",
      "              'login': {'md5': 'd2fe1c2dd5e7899d6f3f6ac718e9054b',\n",
      "                        'password': 'trinidad',\n",
      "                        'salt': 'FNRDU5Zk',\n",
      "                        'sha1': '9a54228b766584b6b32a617acc25735695e02bf2',\n",
      "                        'sha256': 'cd0800c9fe773044be917ebe7c4dc93d8d0d082872899677089254f7f35acfae',\n",
      "                        'username': 'bigfish636',\n",
      "                        'uuid': '8fcf1d19-1291-4e5c-8727-fff61d782e99'},\n",
      "              'name': {'first': 'Mathew', 'last': 'Chavez', 'title': 'Mr'},\n",
      "              'nat': 'US',\n",
      "              'phone': '(770) 863-2206',\n",
      "              'picture': {'large': 'https://randomuser.me/api/portraits/men/22.jpg',\n",
      "                          'medium': 'https://randomuser.me/api/portraits/med/men/22.jpg',\n",
      "                          'thumbnail': 'https://randomuser.me/api/portraits/thumb/men/22.jpg'},\n",
      "              'registered': {'age': 19, 'date': '2004-03-22T00:16:21.676Z'}},\n",
      "             {'cell': '(328) 243-0679',\n",
      "              'dob': {'age': 51, 'date': '1971-08-30T00:42:36.389Z'},\n",
      "              'email': 'mario.boyd@example.com',\n",
      "              'gender': 'male',\n",
      "              'id': {'name': 'SSN', 'value': '438-04-0466'},\n",
      "              'location': {'city': 'Norman',\n",
      "                           'coordinates': {'latitude': '-5.4275',\n",
      "                                           'longitude': '150.7237'},\n",
      "                           'country': 'United States',\n",
      "                           'postcode': 59524,\n",
      "                           'state': 'Idaho',\n",
      "                           'street': {'name': 'Mcgowen St', 'number': 7445},\n",
      "                           'timezone': {'description': 'Hawaii',\n",
      "                                        'offset': '-10:00'}},\n",
      "              'login': {'md5': 'c756bb20d27b73ee895096fd01cdd77a',\n",
      "                        'password': 'eagles',\n",
      "                        'salt': 'GxFxCJbi',\n",
      "                        'sha1': '2442351414920b704f095bfe7dddd977b20eabc1',\n",
      "                        'sha256': '4b5be6c3e2c138469951a38b74d1f093cc3bdeb41e664ea8f946009e518f5223',\n",
      "                        'username': 'lazylion755',\n",
      "                        'uuid': '08e794c8-0355-4f00-bb80-8abf22132f9d'},\n",
      "              'name': {'first': 'Mario', 'last': 'Boyd', 'title': 'Mr'},\n",
      "              'nat': 'US',\n",
      "              'phone': '(920) 967-2922',\n",
      "              'picture': {'large': 'https://randomuser.me/api/portraits/men/49.jpg',\n",
      "                          'medium': 'https://randomuser.me/api/portraits/med/men/49.jpg',\n",
      "                          'thumbnail': 'https://randomuser.me/api/portraits/thumb/men/49.jpg'},\n",
      "              'registered': {'age': 9, 'date': '2013-11-03T04:56:33.811Z'}}]}\n"
     ]
    }
   ],
   "source": [
    "from pprint import pprint\n",
    "pprint(data)"
   ]
  },
  {
   "cell_type": "code",
   "execution_count": 31,
   "metadata": {},
   "outputs": [
    {
     "data": {
      "text/html": [
       "<div>\n",
       "<style scoped>\n",
       "    .dataframe tbody tr th:only-of-type {\n",
       "        vertical-align: middle;\n",
       "    }\n",
       "\n",
       "    .dataframe tbody tr th {\n",
       "        vertical-align: top;\n",
       "    }\n",
       "\n",
       "    .dataframe thead th {\n",
       "        text-align: right;\n",
       "    }\n",
       "</style>\n",
       "<table border=\"1\" class=\"dataframe\">\n",
       "  <thead>\n",
       "    <tr style=\"text-align: right;\">\n",
       "      <th></th>\n",
       "      <th>iss_position</th>\n",
       "      <th>message</th>\n",
       "      <th>timestamp</th>\n",
       "    </tr>\n",
       "  </thead>\n",
       "  <tbody>\n",
       "    <tr>\n",
       "      <th>latitude</th>\n",
       "      <td>-51.1277</td>\n",
       "      <td>success</td>\n",
       "      <td>1684612993</td>\n",
       "    </tr>\n",
       "    <tr>\n",
       "      <th>longitude</th>\n",
       "      <td>-175.6222</td>\n",
       "      <td>success</td>\n",
       "      <td>1684612993</td>\n",
       "    </tr>\n",
       "  </tbody>\n",
       "</table>\n",
       "</div>"
      ],
      "text/plain": [
       "          iss_position  message   timestamp\n",
       "latitude      -51.1277  success  1684612993\n",
       "longitude    -175.6222  success  1684612993"
      ]
     },
     "execution_count": 31,
     "metadata": {},
     "output_type": "execute_result"
    }
   ],
   "source": [
    "# Get the current location of the ISS\n",
    "url = \"http://api.open-notify.org/iss-now.json\"\n",
    "response = requests.get(url)\n",
    "data = response.json()\n",
    "df = pd.DataFrame(data)\n",
    "df"
   ]
  },
  {
   "cell_type": "code",
   "execution_count": 32,
   "metadata": {},
   "outputs": [
    {
     "data": {
      "text/html": [
       "<div>\n",
       "<style scoped>\n",
       "    .dataframe tbody tr th:only-of-type {\n",
       "        vertical-align: middle;\n",
       "    }\n",
       "\n",
       "    .dataframe tbody tr th {\n",
       "        vertical-align: top;\n",
       "    }\n",
       "\n",
       "    .dataframe thead th {\n",
       "        text-align: right;\n",
       "    }\n",
       "</style>\n",
       "<table border=\"1\" class=\"dataframe\">\n",
       "  <thead>\n",
       "    <tr style=\"text-align: right;\">\n",
       "      <th></th>\n",
       "      <th>iss_position</th>\n",
       "      <th>message</th>\n",
       "      <th>timestamp</th>\n",
       "    </tr>\n",
       "  </thead>\n",
       "  <tbody>\n",
       "    <tr>\n",
       "      <th>latitude</th>\n",
       "      <td>-51.1277</td>\n",
       "      <td>success</td>\n",
       "      <td>1684612993</td>\n",
       "    </tr>\n",
       "    <tr>\n",
       "      <th>longitude</th>\n",
       "      <td>-175.6222</td>\n",
       "      <td>success</td>\n",
       "      <td>1684612993</td>\n",
       "    </tr>\n",
       "  </tbody>\n",
       "</table>\n",
       "</div>"
      ],
      "text/plain": [
       "          iss_position  message   timestamp\n",
       "latitude      -51.1277  success  1684612993\n",
       "longitude    -175.6222  success  1684612993"
      ]
     },
     "execution_count": 32,
     "metadata": {},
     "output_type": "execute_result"
    }
   ],
   "source": [
    "df.transpose()\n",
    "df"
   ]
  },
  {
   "cell_type": "code",
   "execution_count": null,
   "metadata": {},
   "outputs": [],
   "source": []
  },
  {
   "cell_type": "code",
   "execution_count": null,
   "metadata": {},
   "outputs": [],
   "source": [
    "\n",
    "coordinates = pd.DataFrame(data[\"iss_position\"])\n",
    "coordinates"
   ]
  },
  {
   "cell_type": "code",
   "execution_count": 21,
   "metadata": {},
   "outputs": [
    {
     "ename": "OSError",
     "evalue": "[Errno 22] Invalid argument: 'http://api.open-notify.org/iss-now.json'",
     "output_type": "error",
     "traceback": [
      "\u001b[1;31m---------------------------------------------------------------------------\u001b[0m",
      "\u001b[1;31mOSError\u001b[0m                                   Traceback (most recent call last)",
      "Cell \u001b[1;32mIn[21], line 3\u001b[0m\n\u001b[0;32m      1\u001b[0m \u001b[39mimport\u001b[39;00m \u001b[39mpandas\u001b[39;00m \u001b[39mas\u001b[39;00m \u001b[39mpd\u001b[39;00m\n\u001b[0;32m      2\u001b[0m url \u001b[39m=\u001b[39m \u001b[39m\"\u001b[39m\u001b[39mhttp://api.open-notify.org/iss-now.json\u001b[39m\u001b[39m\"\u001b[39m\n\u001b[1;32m----> 3\u001b[0m \u001b[39mwith\u001b[39;00m \u001b[39mopen\u001b[39;49m(url, \u001b[39m\"\u001b[39;49m\u001b[39mr\u001b[39;49m\u001b[39m\"\u001b[39;49m) \u001b[39mas\u001b[39;00m file:\n\u001b[0;32m      4\u001b[0m     data \u001b[39m=\u001b[39m file\u001b[39m.\u001b[39mread()\n\u001b[0;32m      6\u001b[0m data \u001b[39m=\u001b[39m pd\u001b[39m.\u001b[39mread_json(data)\n",
      "File \u001b[1;32mc:\\Users\\Khanh Nguyen\\AppData\\Local\\Programs\\Python\\Python310\\lib\\site-packages\\IPython\\core\\interactiveshell.py:284\u001b[0m, in \u001b[0;36m_modified_open\u001b[1;34m(file, *args, **kwargs)\u001b[0m\n\u001b[0;32m    277\u001b[0m \u001b[39mif\u001b[39;00m file \u001b[39min\u001b[39;00m {\u001b[39m0\u001b[39m, \u001b[39m1\u001b[39m, \u001b[39m2\u001b[39m}:\n\u001b[0;32m    278\u001b[0m     \u001b[39mraise\u001b[39;00m \u001b[39mValueError\u001b[39;00m(\n\u001b[0;32m    279\u001b[0m         \u001b[39mf\u001b[39m\u001b[39m\"\u001b[39m\u001b[39mIPython won\u001b[39m\u001b[39m'\u001b[39m\u001b[39mt let you open fd=\u001b[39m\u001b[39m{\u001b[39;00mfile\u001b[39m}\u001b[39;00m\u001b[39m by default \u001b[39m\u001b[39m\"\u001b[39m\n\u001b[0;32m    280\u001b[0m         \u001b[39m\"\u001b[39m\u001b[39mas it is likely to crash IPython. If you know what you are doing, \u001b[39m\u001b[39m\"\u001b[39m\n\u001b[0;32m    281\u001b[0m         \u001b[39m\"\u001b[39m\u001b[39myou can use builtins\u001b[39m\u001b[39m'\u001b[39m\u001b[39m open.\u001b[39m\u001b[39m\"\u001b[39m\n\u001b[0;32m    282\u001b[0m     )\n\u001b[1;32m--> 284\u001b[0m \u001b[39mreturn\u001b[39;00m io_open(file, \u001b[39m*\u001b[39margs, \u001b[39m*\u001b[39m\u001b[39m*\u001b[39mkwargs)\n",
      "\u001b[1;31mOSError\u001b[0m: [Errno 22] Invalid argument: 'http://api.open-notify.org/iss-now.json'"
     ]
    }
   ],
   "source": [
    "import pandas as pd\n",
    "url = \"http://api.open-notify.org/iss-now.json\"\n",
    "with open(url, \"r\") as file:\n",
    "    data = file.read()\n",
    "\n",
    "data = pd.read_json(data)"
   ]
  }
 ],
 "metadata": {
  "kernelspec": {
   "display_name": "Python 3",
   "language": "python",
   "name": "python3"
  },
  "language_info": {
   "codemirror_mode": {
    "name": "ipython",
    "version": 3
   },
   "file_extension": ".py",
   "mimetype": "text/x-python",
   "name": "python",
   "nbconvert_exporter": "python",
   "pygments_lexer": "ipython3",
   "version": "3.10.9"
  },
  "orig_nbformat": 4
 },
 "nbformat": 4,
 "nbformat_minor": 2
}
